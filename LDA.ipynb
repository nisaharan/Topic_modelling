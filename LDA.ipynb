{
 "cells": [
  {
   "cell_type": "code",
   "execution_count": 1,
   "outputs": [],
   "source": [
    "import pandas as pd\n",
    "from gensim.models import LdaModel\n",
    "from gensim.corpora import Dictionary\n",
    "from gensim import corpora"
   ],
   "metadata": {
    "collapsed": false
   }
  },
  {
   "cell_type": "code",
   "execution_count": 46,
   "outputs": [],
   "source": [
    "# Load the Amazon Alexa Reviews dataset\n",
    "df = pd.read_csv('amazon_alexa.csv', encoding='ISO-8859-1')"
   ],
   "metadata": {
    "collapsed": false
   }
  },
  {
   "cell_type": "code",
   "execution_count": 48,
   "outputs": [
    {
     "name": "stdout",
     "output_type": "stream",
     "text": [
      "Topic 1:\n",
      "[('product', 0.028055802), ('great', 0.018810965), ('best', 0.015707834), ('some', 0.014537852), ('like', 0.013966958), ('amazing', 0.013446967), ('nice', 0.012185711), ('has', 0.011331021), ('speaker', 0.009851323), ('devices', 0.009728698)]\n",
      "\n",
      "\n",
      "Topic 2:\n",
      "[('great', 0.022333335), ('works', 0.0154933985), ('all', 0.015219325), ('time', 0.014432871), ('like', 0.012481828), ('new', 0.012173928), ('alarm', 0.009828739), ('one', 0.0097851055), ('had', 0.009566674), ('buy', 0.008904813)]\n",
      "\n",
      "\n",
      "Topic 3:\n",
      "[('music', 0.02688509), ('play', 0.018117102), ('prime', 0.01702956), ('works', 0.010980732), ('because', 0.009566748), ('like', 0.009206126), ('any', 0.008898834), ('need', 0.00875491), ('ask', 0.008687715), ('had', 0.008499524)]\n",
      "\n",
      "\n",
      "Topic 4:\n",
      "[('love', 0.0327928), ('has', 0.013720461), ('all', 0.012814442), ('like', 0.012603235), ('her', 0.01237666), ('our', 0.011884727), ('one', 0.011603826), ('do', 0.011167683), ('music', 0.009463147), ('what', 0.009440353)]\n",
      "\n",
      "\n",
      "Topic 5:\n",
      "[('like', 0.04668486), ('better', 0.036102116), ('than', 0.030049456), ('speaker', 0.018550824), ('sound', 0.017150817), ('other', 0.0148847625), ('more', 0.014369352), ('volume', 0.011933743), ('many', 0.009695986), ('work', 0.009125424)]\n",
      "\n",
      "\n",
      "Topic 6:\n",
      "[('great', 0.090182796), ('works', 0.06957277), ('sound', 0.043683138), ('quality', 0.028535658), ('perfect', 0.022080423), ('love', 0.017690716), ('excellent', 0.012719047), ('pleased', 0.010918338), ('home', 0.010816984), ('does', 0.010673657)]\n",
      "\n",
      "\n",
      "Topic 7:\n",
      "[('love', 0.14234301), ('easy', 0.07364919), ('music', 0.027428837), ('great', 0.015511061), ('works', 0.01427983), ('play', 0.011187464), ('like', 0.010563166), ('all', 0.010374724), ('able', 0.01007041), ('what', 0.008140599)]\n",
      "\n",
      "\n",
      "Topic 8:\n",
      "[('one', 0.018007401), ('smart', 0.017743785), ('tv', 0.016484344), ('fire', 0.014384084), ('home', 0.012998361), ('more', 0.011957086), ('stick', 0.011542032), ('am', 0.011451733), ('another', 0.010607476), ('does', 0.010481885)]\n",
      "\n",
      "\n",
      "Topic 9:\n",
      "[('loves', 0.02473633), ('fun', 0.018213311), ('talking', 0.015458459), ('more', 0.013447428), ('even', 0.012434761), ('phone', 0.012202789), ('there', 0.010789813), ('year', 0.010644588), ('also', 0.010081572), ('then', 0.009887993)]\n",
      "\n",
      "\n",
      "Topic 10:\n",
      "[('everything', 0.046907544), ('good', 0.044313878), ('am', 0.030112322), ('does', 0.02608691), ('learning', 0.024742164), ('far', 0.020957014), ('device', 0.020064114), ('enjoying', 0.017292427), ('much', 0.016120683), ('its', 0.012342031)]\n",
      "\n",
      "\n"
     ]
    }
   ],
   "source": [
    "# Preprocess the text data by tokenizing and removing stop words, punctuation, and numbers\n",
    "texts = df['verified_reviews'].apply(lambda x: x.lower().split())\n",
    "stop_words = set(['a', 'an', 'and', 'the', 'in', 'is', 'it', 'of', 'on', 'with', 'for', 'this', 'by', 'from', 'at', 'to', 'be', 'as', 'but', 'not', 'that', 'or', 'if', 'you', 'are', 'your', 'set', 'here', 'i', 'we', 'my', 'have', 'so', 'she', 'can', 'was', 'echo', 'up', 'will', 'alexa', 'very', 'really', 'use', 'out', 'just', 'would', 'amazon', 'dot', 'when', 'no', 'he', 'me', 'get', 'still'])  # Define your set of stop words\n",
    "texts = [[word for word in doc if word not in stop_words and word.isalpha()] for doc in texts]\n",
    "\n",
    "# Create a dictionary representation of the documents\n",
    "dictionary = corpora.Dictionary(texts)\n",
    "\n",
    "# Convert the documents to a bag-of-words representation\n",
    "corpus = [dictionary.doc2bow(text) for text in texts]\n",
    "\n",
    "# Train the LDA model\n",
    "num_topics = 10  # Number of topics to extract\n",
    "lda_model = LdaModel(corpus=corpus, id2word=dictionary, num_topics=num_topics, passes=10)\n",
    "\n",
    "# Get the topic distribution for each document\n",
    "doc_topics = lda_model.get_document_topics(corpus)\n",
    "\n",
    "# Print the topics and their corresponding keywords\n",
    "for i in range(num_topics):\n",
    "    print(f\"Topic {i+1}:\")\n",
    "    print(lda_model.show_topic(i))\n",
    "    print(\"\\n\")\n",
    "\n",
    "# Get the most dominant topic for each document\n",
    "dominant_topic = [max(topic, key=lambda x: x[1])[0] if len(topic) > 0 else None for topic in doc_topics]\n",
    "df['dominant_topic'] = dominant_topic\n",
    "\n",
    "# Extract the dominant topic and its probability for each document\n",
    "df['dominant_topic_prob'] = [topic[dominant_topic[i]][1] if dominant_topic[i] is not None and len(topic) > 0 and dominant_topic[i] < len(topic) else None for i, topic in enumerate(doc_topics)]\n"
   ],
   "metadata": {
    "collapsed": false
   }
  },
  {
   "cell_type": "code",
   "execution_count": 49,
   "outputs": [
    {
     "name": "stdout",
     "output_type": "stream",
     "text": [
      "                                       verified_reviews  dominant_topic  \\\n",
      "0                                         Love my Echo!               6   \n",
      "1                                             Loved it!               7   \n",
      "2     Sometimes while playing a game, you can answer...               2   \n",
      "3     I have had a lot of fun with this thing. My 4 ...               2   \n",
      "4                                                 Music               6   \n",
      "...                                                 ...             ...   \n",
      "3145  Perfect for kids, adults and everyone in betwe...               5   \n",
      "3146  Listening to music, searching locations, check...               4   \n",
      "3147  I do love these things, i have them running my...               5   \n",
      "3148  Only complaint I have is that the sound qualit...               2   \n",
      "3149                                               Good               9   \n",
      "\n",
      "     dominant_topic_name  \n",
      "0                   love  \n",
      "1                    one  \n",
      "2                  music  \n",
      "3                  music  \n",
      "4                   love  \n",
      "...                  ...  \n",
      "3145               great  \n",
      "3146                like  \n",
      "3147               great  \n",
      "3148               music  \n",
      "3149          everything  \n",
      "\n",
      "[3150 rows x 3 columns]\n"
     ]
    }
   ],
   "source": [
    "# Get the topic names for each topic ID\n",
    "topic_names = []\n",
    "for topic_id in dominant_topic:\n",
    "    if topic_id is not None and len(lda_model.show_topic(topic_id)) > 0:\n",
    "        topic_names.append(lda_model.show_topic(topic_id)[0][0])\n",
    "    else:\n",
    "        topic_names.append(None)\n",
    "\n",
    "# Add the topic names to the DataFrame\n",
    "df['dominant_topic_name'] = topic_names\n",
    "\n",
    "# Display the results\n",
    "print(df[['verified_reviews', 'dominant_topic', 'dominant_topic_name']])"
   ],
   "metadata": {
    "collapsed": false
   }
  },
  {
   "cell_type": "code",
   "execution_count": 50,
   "outputs": [
    {
     "data": {
      "text/plain": "      rating       date         variation  \\\n0          5  31-Jul-18  Charcoal Fabric    \n1          5  31-Jul-18  Charcoal Fabric    \n2          4  31-Jul-18    Walnut Finish    \n3          5  31-Jul-18  Charcoal Fabric    \n4          5  31-Jul-18  Charcoal Fabric    \n...      ...        ...               ...   \n3145       5  30-Jul-18        Black  Dot   \n3146       5  30-Jul-18        Black  Dot   \n3147       5  30-Jul-18        Black  Dot   \n3148       5  30-Jul-18        White  Dot   \n3149       4  29-Jul-18        Black  Dot   \n\n                                       verified_reviews  dominant_topic  \\\n0                                         Love my Echo!               6   \n1                                             Loved it!               7   \n2     Sometimes while playing a game, you can answer...               2   \n3     I have had a lot of fun with this thing. My 4 ...               2   \n4                                                 Music               6   \n...                                                 ...             ...   \n3145  Perfect for kids, adults and everyone in betwe...               5   \n3146  Listening to music, searching locations, check...               4   \n3147  I do love these things, i have them running my...               5   \n3148  Only complaint I have is that the sound qualit...               2   \n3149                                               Good               9   \n\n      dominant_topic_prob dominant_topic_name  \n0                0.549988                love  \n1                0.549968                 one  \n2                     NaN               music  \n3                     NaN               music  \n4                0.549952                love  \n...                   ...                 ...  \n3145             0.774990               great  \n3146             0.626219                like  \n3147                  NaN               great  \n3148             0.444325               music  \n3149             0.549985          everything  \n\n[3150 rows x 7 columns]",
      "text/html": "<div>\n<style scoped>\n    .dataframe tbody tr th:only-of-type {\n        vertical-align: middle;\n    }\n\n    .dataframe tbody tr th {\n        vertical-align: top;\n    }\n\n    .dataframe thead th {\n        text-align: right;\n    }\n</style>\n<table border=\"1\" class=\"dataframe\">\n  <thead>\n    <tr style=\"text-align: right;\">\n      <th></th>\n      <th>rating</th>\n      <th>date</th>\n      <th>variation</th>\n      <th>verified_reviews</th>\n      <th>dominant_topic</th>\n      <th>dominant_topic_prob</th>\n      <th>dominant_topic_name</th>\n    </tr>\n  </thead>\n  <tbody>\n    <tr>\n      <th>0</th>\n      <td>5</td>\n      <td>31-Jul-18</td>\n      <td>Charcoal Fabric</td>\n      <td>Love my Echo!</td>\n      <td>6</td>\n      <td>0.549988</td>\n      <td>love</td>\n    </tr>\n    <tr>\n      <th>1</th>\n      <td>5</td>\n      <td>31-Jul-18</td>\n      <td>Charcoal Fabric</td>\n      <td>Loved it!</td>\n      <td>7</td>\n      <td>0.549968</td>\n      <td>one</td>\n    </tr>\n    <tr>\n      <th>2</th>\n      <td>4</td>\n      <td>31-Jul-18</td>\n      <td>Walnut Finish</td>\n      <td>Sometimes while playing a game, you can answer...</td>\n      <td>2</td>\n      <td>NaN</td>\n      <td>music</td>\n    </tr>\n    <tr>\n      <th>3</th>\n      <td>5</td>\n      <td>31-Jul-18</td>\n      <td>Charcoal Fabric</td>\n      <td>I have had a lot of fun with this thing. My 4 ...</td>\n      <td>2</td>\n      <td>NaN</td>\n      <td>music</td>\n    </tr>\n    <tr>\n      <th>4</th>\n      <td>5</td>\n      <td>31-Jul-18</td>\n      <td>Charcoal Fabric</td>\n      <td>Music</td>\n      <td>6</td>\n      <td>0.549952</td>\n      <td>love</td>\n    </tr>\n    <tr>\n      <th>...</th>\n      <td>...</td>\n      <td>...</td>\n      <td>...</td>\n      <td>...</td>\n      <td>...</td>\n      <td>...</td>\n      <td>...</td>\n    </tr>\n    <tr>\n      <th>3145</th>\n      <td>5</td>\n      <td>30-Jul-18</td>\n      <td>Black  Dot</td>\n      <td>Perfect for kids, adults and everyone in betwe...</td>\n      <td>5</td>\n      <td>0.774990</td>\n      <td>great</td>\n    </tr>\n    <tr>\n      <th>3146</th>\n      <td>5</td>\n      <td>30-Jul-18</td>\n      <td>Black  Dot</td>\n      <td>Listening to music, searching locations, check...</td>\n      <td>4</td>\n      <td>0.626219</td>\n      <td>like</td>\n    </tr>\n    <tr>\n      <th>3147</th>\n      <td>5</td>\n      <td>30-Jul-18</td>\n      <td>Black  Dot</td>\n      <td>I do love these things, i have them running my...</td>\n      <td>5</td>\n      <td>NaN</td>\n      <td>great</td>\n    </tr>\n    <tr>\n      <th>3148</th>\n      <td>5</td>\n      <td>30-Jul-18</td>\n      <td>White  Dot</td>\n      <td>Only complaint I have is that the sound qualit...</td>\n      <td>2</td>\n      <td>0.444325</td>\n      <td>music</td>\n    </tr>\n    <tr>\n      <th>3149</th>\n      <td>4</td>\n      <td>29-Jul-18</td>\n      <td>Black  Dot</td>\n      <td>Good</td>\n      <td>9</td>\n      <td>0.549985</td>\n      <td>everything</td>\n    </tr>\n  </tbody>\n</table>\n<p>3150 rows × 7 columns</p>\n</div>"
     },
     "execution_count": 50,
     "metadata": {},
     "output_type": "execute_result"
    }
   ],
   "source": [
    "df"
   ],
   "metadata": {
    "collapsed": false
   }
  }
 ],
 "metadata": {
  "kernelspec": {
   "display_name": "Python 3",
   "language": "python",
   "name": "python3"
  },
  "language_info": {
   "codemirror_mode": {
    "name": "ipython",
    "version": 2
   },
   "file_extension": ".py",
   "mimetype": "text/x-python",
   "name": "python",
   "nbconvert_exporter": "python",
   "pygments_lexer": "ipython2",
   "version": "2.7.6"
  }
 },
 "nbformat": 4,
 "nbformat_minor": 0
}
