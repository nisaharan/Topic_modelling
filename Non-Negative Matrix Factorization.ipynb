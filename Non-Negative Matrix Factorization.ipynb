{
 "cells": [
  {
   "cell_type": "code",
   "execution_count": 17,
   "outputs": [],
   "source": [
    "import pandas as pd\n",
    "from sklearn.feature_extraction.text import TfidfVectorizer\n",
    "from sklearn.decomposition import NMF"
   ],
   "metadata": {
    "collapsed": false
   }
  },
  {
   "cell_type": "code",
   "execution_count": 18,
   "outputs": [],
   "source": [
    "# Load the Amazon Alexa Reviews dataset\n",
    "df = pd.read_csv('amazon_alexa.csv', encoding='ISO-8859-1')"
   ],
   "metadata": {
    "collapsed": false
   }
  },
  {
   "cell_type": "code",
   "execution_count": 19,
   "outputs": [
    {
     "name": "stdout",
     "output_type": "stream",
     "text": [
      "Topic 1:\n",
      "['love', 'absolutely', 'kids', 'fire', 'wonderful', 'new', 'spot', 'our', 'having', 'much']\n",
      "\n",
      "\n",
      "Topic 2:\n",
      "['great', 'addition', 'device', 'purchase', 'buy', 'speaker', 'sound', 'has', 'looks', 'small']\n",
      "\n",
      "\n",
      "Topic 3:\n",
      "['easy', 'setup', 'install', 'smart', 'connect', 'how', 'super', 'its', 'what', 'enjoying']\n",
      "\n",
      "\n",
      "Topic 4:\n",
      "['works', 'well', 'perfect', 'better', 'excellent', 'perfectly', 'other', 'sounds', 'home', 'than']\n",
      "\n",
      "\n",
      "Topic 5:\n",
      "['music', 'all', 'one', 'play', 'more', 'our', 'do', 'what', 'bought', 'am']\n",
      "\n",
      "\n",
      "Topic 6:\n",
      "['like', 'new', 'other', 'do', 'about', 'far', 'almost', 'how', 'little', 'any']\n",
      "\n",
      "\n",
      "Topic 7:\n",
      "['sound', 'quality', 'better', 'than', 'fun', 'much', 'has', 'nice', 'impressed', 'speaker']\n",
      "\n",
      "\n",
      "Topic 8:\n",
      "['good', 'speaker', 'sounds', 'pretty', 'far', 'new', 'device', 'quality', 'small', 'well']\n",
      "\n",
      "\n",
      "Topic 9:\n",
      "['product', 'nice', 'amazing', 'excellent', 'fast', 'awesome', 'music', 'satisfied', 'enjoyment', 'understands']\n",
      "\n",
      "\n",
      "Topic 10:\n",
      "['everything', 'does', 'about', 'expected', 'what', 'perfect', 'loved', 'work', 'learning', 'almost']\n",
      "\n",
      "\n",
      "                                       verified_reviews  dominant_topic  \\\n",
      "0                                         Love my Echo!               0   \n",
      "1                                             Loved it!               9   \n",
      "2     Sometimes while playing a game, you can answer...               5   \n",
      "3     I have had a lot of fun with this thing. My 4 ...               6   \n",
      "4                                                 Music               4   \n",
      "...                                                 ...             ...   \n",
      "3145  Perfect for kids, adults and everyone in betwe...               9   \n",
      "3146  Listening to music, searching locations, check...               4   \n",
      "3147  I do love these things, i have them running my...               4   \n",
      "3148  Only complaint I have is that the sound qualit...               6   \n",
      "3149                                               Good               7   \n",
      "\n",
      "     dominant_topic_name  \n",
      "0                   love  \n",
      "1             everything  \n",
      "2                   like  \n",
      "3                  sound  \n",
      "4                  music  \n",
      "...                  ...  \n",
      "3145          everything  \n",
      "3146               music  \n",
      "3147               music  \n",
      "3148               sound  \n",
      "3149                good  \n",
      "\n",
      "[3150 rows x 3 columns]\n"
     ]
    }
   ],
   "source": [
    "# Preprocess the text data by tokenizing and removing stop words, punctuation, and numbers\n",
    "texts = df['verified_reviews'].apply(lambda x: x.lower().split())\n",
    "stop_words = set(['a', 'an', 'and', 'the', 'in', 'is', 'it', 'of', 'on', 'with', 'for', 'this', 'by', 'from', 'at', 'to', 'be', 'as', 'but', 'not', 'that', 'or', 'if', 'you', 'are', 'your', 'set', 'here', 'i', 'we', 'my', 'have', 'so', 'she', 'can', 'was', 'echo', 'up', 'will', 'alexa', 'very', 'really', 'use', 'out', 'just', 'would', 'amazon', 'dot', 'when', 'no', 'he', 'me', 'get', 'still'])  # Define your set of stop words\n",
    "texts = [' '.join([word for word in doc if word not in stop_words and word.isalpha()]) for doc in texts]\n",
    "\n",
    "# Convert the preprocessed text data to a matrix of TF-IDF features\n",
    "vectorizer = TfidfVectorizer()\n",
    "X = vectorizer.fit_transform(texts)\n",
    "\n",
    "# Train the NMF model\n",
    "num_topics = 10  # Number of topics to extract\n",
    "nmf_model = NMF(n_components=num_topics, init='nndsvd', max_iter=200)\n",
    "W = nmf_model.fit_transform(X)\n",
    "H = nmf_model.components_\n",
    "\n",
    "# Get the topic distribution for each document\n",
    "doc_topics = W.argmax(axis=1)\n",
    "\n",
    "# Print the topics and their corresponding keywords\n",
    "feature_names = vectorizer.get_feature_names_out()\n",
    "for i, topic in enumerate(H):\n",
    "    print(f\"Topic {i+1}:\")\n",
    "    print([feature_names[idx] for idx in topic.argsort()[:-11:-1]])\n",
    "    print(\"\\n\")\n",
    "\n",
    "# Get the most dominant topic for each document\n",
    "df['dominant_topic'] = doc_topics\n",
    "\n",
    "# Extract the dominant topic and its probability for each document\n",
    "df['dominant_topic_prob'] = W.max(axis=1)\n",
    "\n",
    "# Get the topic names for each topic ID\n",
    "topic_names = []\n",
    "for topic_id in doc_topics:\n",
    "    topic_keywords = [feature_names[index] for index in nmf_model.components_[topic_id].argsort()[:-11:-1]]\n",
    "    topic_names.append(topic_keywords[0])\n",
    "\n",
    "\n",
    "# Add the topic names to the DataFrame\n",
    "df['dominant_topic_name'] = topic_names\n",
    "\n",
    "# Display the results\n",
    "print(df[['verified_reviews', 'dominant_topic', 'dominant_topic_name']])"
   ],
   "metadata": {
    "collapsed": false
   }
  },
  {
   "cell_type": "code",
   "execution_count": 20,
   "outputs": [
    {
     "data": {
      "text/plain": "      rating       date         variation  \\\n0          5  31-Jul-18  Charcoal Fabric    \n1          5  31-Jul-18  Charcoal Fabric    \n2          4  31-Jul-18    Walnut Finish    \n3          5  31-Jul-18  Charcoal Fabric    \n4          5  31-Jul-18  Charcoal Fabric    \n...      ...        ...               ...   \n3145       5  30-Jul-18        Black  Dot   \n3146       5  30-Jul-18        Black  Dot   \n3147       5  30-Jul-18        Black  Dot   \n3148       5  30-Jul-18        White  Dot   \n3149       4  29-Jul-18        Black  Dot   \n\n                                       verified_reviews  dominant_topic  \\\n0                                         Love my Echo!               0   \n1                                             Loved it!               9   \n2     Sometimes while playing a game, you can answer...               5   \n3     I have had a lot of fun with this thing. My 4 ...               6   \n4                                                 Music               4   \n...                                                 ...             ...   \n3145  Perfect for kids, adults and everyone in betwe...               9   \n3146  Listening to music, searching locations, check...               4   \n3147  I do love these things, i have them running my...               4   \n3148  Only complaint I have is that the sound qualit...               6   \n3149                                               Good               7   \n\n      dominant_topic_prob dominant_topic_name  \n0                0.271391                love  \n1                0.021410          everything  \n2                0.051923                like  \n3                0.071684               sound  \n4                0.099495               music  \n...                   ...                 ...  \n3145             0.011512          everything  \n3146             0.035193               music  \n3147             0.070623               music  \n3148             0.073690               sound  \n3149             0.372232                good  \n\n[3150 rows x 7 columns]",
      "text/html": "<div>\n<style scoped>\n    .dataframe tbody tr th:only-of-type {\n        vertical-align: middle;\n    }\n\n    .dataframe tbody tr th {\n        vertical-align: top;\n    }\n\n    .dataframe thead th {\n        text-align: right;\n    }\n</style>\n<table border=\"1\" class=\"dataframe\">\n  <thead>\n    <tr style=\"text-align: right;\">\n      <th></th>\n      <th>rating</th>\n      <th>date</th>\n      <th>variation</th>\n      <th>verified_reviews</th>\n      <th>dominant_topic</th>\n      <th>dominant_topic_prob</th>\n      <th>dominant_topic_name</th>\n    </tr>\n  </thead>\n  <tbody>\n    <tr>\n      <th>0</th>\n      <td>5</td>\n      <td>31-Jul-18</td>\n      <td>Charcoal Fabric</td>\n      <td>Love my Echo!</td>\n      <td>0</td>\n      <td>0.271391</td>\n      <td>love</td>\n    </tr>\n    <tr>\n      <th>1</th>\n      <td>5</td>\n      <td>31-Jul-18</td>\n      <td>Charcoal Fabric</td>\n      <td>Loved it!</td>\n      <td>9</td>\n      <td>0.021410</td>\n      <td>everything</td>\n    </tr>\n    <tr>\n      <th>2</th>\n      <td>4</td>\n      <td>31-Jul-18</td>\n      <td>Walnut Finish</td>\n      <td>Sometimes while playing a game, you can answer...</td>\n      <td>5</td>\n      <td>0.051923</td>\n      <td>like</td>\n    </tr>\n    <tr>\n      <th>3</th>\n      <td>5</td>\n      <td>31-Jul-18</td>\n      <td>Charcoal Fabric</td>\n      <td>I have had a lot of fun with this thing. My 4 ...</td>\n      <td>6</td>\n      <td>0.071684</td>\n      <td>sound</td>\n    </tr>\n    <tr>\n      <th>4</th>\n      <td>5</td>\n      <td>31-Jul-18</td>\n      <td>Charcoal Fabric</td>\n      <td>Music</td>\n      <td>4</td>\n      <td>0.099495</td>\n      <td>music</td>\n    </tr>\n    <tr>\n      <th>...</th>\n      <td>...</td>\n      <td>...</td>\n      <td>...</td>\n      <td>...</td>\n      <td>...</td>\n      <td>...</td>\n      <td>...</td>\n    </tr>\n    <tr>\n      <th>3145</th>\n      <td>5</td>\n      <td>30-Jul-18</td>\n      <td>Black  Dot</td>\n      <td>Perfect for kids, adults and everyone in betwe...</td>\n      <td>9</td>\n      <td>0.011512</td>\n      <td>everything</td>\n    </tr>\n    <tr>\n      <th>3146</th>\n      <td>5</td>\n      <td>30-Jul-18</td>\n      <td>Black  Dot</td>\n      <td>Listening to music, searching locations, check...</td>\n      <td>4</td>\n      <td>0.035193</td>\n      <td>music</td>\n    </tr>\n    <tr>\n      <th>3147</th>\n      <td>5</td>\n      <td>30-Jul-18</td>\n      <td>Black  Dot</td>\n      <td>I do love these things, i have them running my...</td>\n      <td>4</td>\n      <td>0.070623</td>\n      <td>music</td>\n    </tr>\n    <tr>\n      <th>3148</th>\n      <td>5</td>\n      <td>30-Jul-18</td>\n      <td>White  Dot</td>\n      <td>Only complaint I have is that the sound qualit...</td>\n      <td>6</td>\n      <td>0.073690</td>\n      <td>sound</td>\n    </tr>\n    <tr>\n      <th>3149</th>\n      <td>4</td>\n      <td>29-Jul-18</td>\n      <td>Black  Dot</td>\n      <td>Good</td>\n      <td>7</td>\n      <td>0.372232</td>\n      <td>good</td>\n    </tr>\n  </tbody>\n</table>\n<p>3150 rows × 7 columns</p>\n</div>"
     },
     "execution_count": 20,
     "metadata": {},
     "output_type": "execute_result"
    }
   ],
   "source": [
    "df"
   ],
   "metadata": {
    "collapsed": false
   }
  }
 ],
 "metadata": {
  "kernelspec": {
   "display_name": "Python 3",
   "language": "python",
   "name": "python3"
  },
  "language_info": {
   "codemirror_mode": {
    "name": "ipython",
    "version": 2
   },
   "file_extension": ".py",
   "mimetype": "text/x-python",
   "name": "python",
   "nbconvert_exporter": "python",
   "pygments_lexer": "ipython2",
   "version": "2.7.6"
  }
 },
 "nbformat": 4,
 "nbformat_minor": 0
}
